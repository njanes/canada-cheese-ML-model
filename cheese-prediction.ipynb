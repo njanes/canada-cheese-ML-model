{
 "cells": [
  {
   "cell_type": "markdown",
   "metadata": {},
   "source": [
    "# A Supervised Machine Learning Model for Classification of Canadian Cheeses"
   ]
  },
  {
   "cell_type": "markdown",
   "metadata": {},
   "source": [
    "# Introduction\n",
    "\n",
    "## Objective\n",
    "\n",
    "The goal of this project is to develop a supervised machine learning model to predict whether a cheese is lower-fat or higher-fat, given data on the cheese's milk type and moisture content. As the objective is to predict a binary categorical variable, this is a problem of classification rather than regression. \n",
    "\n",
    "The expected outcome is that the model can accurately classify cheeses as lower-fat or higher-fat based on the two aforementioned variables, which would be of value to cheese producers, distributors, and retailers in labeling cheeses correctly. This would allow for more efficient development of marketing strategies and better catering to consumer preferences and dietary needs."
   ]
  },
  {
   "cell_type": "markdown",
   "metadata": {},
   "source": [
    "# Exploratory Data Analysis\n",
    "\n",
    "## Reading and Splitting Data\n",
    "To begin, I import the required libraries, then I read the data from a .csv file and print the first 5 rows of the data frame."
   ]
  },
  {
   "cell_type": "code",
   "execution_count": 1,
   "metadata": {},
   "outputs": [
    {
     "data": {
      "text/plain": [
       "RendererRegistry.enable('png')"
      ]
     },
     "execution_count": 1,
     "metadata": {},
     "output_type": "execute_result"
    }
   ],
   "source": [
    "# import necesesary libraries\n",
    "import pandas as pd\n",
    "import altair as alt\n",
    "from sklearn.model_selection import train_test_split, cross_validate, GridSearchCV, RandomizedSearchCV\n",
    "from sklearn.dummy import DummyClassifier\n",
    "from sklearn.pipeline import make_pipeline\n",
    "from sklearn.impute import SimpleImputer\n",
    "from sklearn.ensemble import RandomForestClassifier\n",
    "from sklearn.neighbors import KNeighborsClassifier\n",
    "from sklearn.linear_model import Ridge, LogisticRegression\n",
    "from sklearn.compose import make_column_transformer\n",
    "from sklearn.svm import SVC\n",
    "from sklearn.metrics import ConfusionMatrixDisplay, classification_report, f1_score\n",
    "from sklearn.preprocessing import OneHotEncoder, StandardScaler\n",
    "\n",
    "# Enable PNG rendering\n",
    "alt.renderers.enable('png')"
   ]
  },
  {
   "cell_type": "code",
   "execution_count": 2,
   "metadata": {},
   "outputs": [
    {
     "data": {
      "text/html": [
       "<div>\n",
       "<style scoped>\n",
       "    .dataframe tbody tr th:only-of-type {\n",
       "        vertical-align: middle;\n",
       "    }\n",
       "\n",
       "    .dataframe tbody tr th {\n",
       "        vertical-align: top;\n",
       "    }\n",
       "\n",
       "    .dataframe thead th {\n",
       "        text-align: right;\n",
       "    }\n",
       "</style>\n",
       "<table border=\"1\" class=\"dataframe\">\n",
       "  <thead>\n",
       "    <tr style=\"text-align: right;\">\n",
       "      <th></th>\n",
       "      <th>CheeseId</th>\n",
       "      <th>ManufacturerProvCode</th>\n",
       "      <th>ManufacturingTypeEn</th>\n",
       "      <th>MoisturePercent</th>\n",
       "      <th>FlavourEn</th>\n",
       "      <th>CharacteristicsEn</th>\n",
       "      <th>Organic</th>\n",
       "      <th>CategoryTypeEn</th>\n",
       "      <th>MilkTypeEn</th>\n",
       "      <th>MilkTreatmentTypeEn</th>\n",
       "      <th>RindTypeEn</th>\n",
       "      <th>CheeseName</th>\n",
       "      <th>FatLevel</th>\n",
       "    </tr>\n",
       "  </thead>\n",
       "  <tbody>\n",
       "    <tr>\n",
       "      <th>0</th>\n",
       "      <td>228</td>\n",
       "      <td>NB</td>\n",
       "      <td>Farmstead</td>\n",
       "      <td>47.0</td>\n",
       "      <td>Sharp, lactic</td>\n",
       "      <td>Uncooked</td>\n",
       "      <td>0</td>\n",
       "      <td>Firm Cheese</td>\n",
       "      <td>Ewe</td>\n",
       "      <td>Raw Milk</td>\n",
       "      <td>Washed Rind</td>\n",
       "      <td>Sieur de Duplessis (Le)</td>\n",
       "      <td>lower fat</td>\n",
       "    </tr>\n",
       "    <tr>\n",
       "      <th>1</th>\n",
       "      <td>242</td>\n",
       "      <td>NB</td>\n",
       "      <td>Farmstead</td>\n",
       "      <td>47.9</td>\n",
       "      <td>Sharp, lactic, lightly caramelized</td>\n",
       "      <td>Uncooked</td>\n",
       "      <td>0</td>\n",
       "      <td>Semi-soft Cheese</td>\n",
       "      <td>Cow</td>\n",
       "      <td>Raw Milk</td>\n",
       "      <td>Washed Rind</td>\n",
       "      <td>Tomme Le Champ Doré</td>\n",
       "      <td>lower fat</td>\n",
       "    </tr>\n",
       "    <tr>\n",
       "      <th>2</th>\n",
       "      <td>301</td>\n",
       "      <td>ON</td>\n",
       "      <td>Industrial</td>\n",
       "      <td>54.0</td>\n",
       "      <td>Mild, tangy, and fruity</td>\n",
       "      <td>Pressed and cooked cheese, pasta filata, inter...</td>\n",
       "      <td>0</td>\n",
       "      <td>Firm Cheese</td>\n",
       "      <td>Cow</td>\n",
       "      <td>Pasteurized</td>\n",
       "      <td>NaN</td>\n",
       "      <td>Provolone Sette Fette (Tre-Stelle)</td>\n",
       "      <td>lower fat</td>\n",
       "    </tr>\n",
       "    <tr>\n",
       "      <th>3</th>\n",
       "      <td>303</td>\n",
       "      <td>NB</td>\n",
       "      <td>Farmstead</td>\n",
       "      <td>47.0</td>\n",
       "      <td>Sharp with fruity notes and a hint of wild honey</td>\n",
       "      <td>NaN</td>\n",
       "      <td>0</td>\n",
       "      <td>Veined Cheeses</td>\n",
       "      <td>Cow</td>\n",
       "      <td>Raw Milk</td>\n",
       "      <td>NaN</td>\n",
       "      <td>Geai Bleu (Le)</td>\n",
       "      <td>lower fat</td>\n",
       "    </tr>\n",
       "    <tr>\n",
       "      <th>4</th>\n",
       "      <td>319</td>\n",
       "      <td>NB</td>\n",
       "      <td>Farmstead</td>\n",
       "      <td>49.4</td>\n",
       "      <td>Softer taste</td>\n",
       "      <td>NaN</td>\n",
       "      <td>1</td>\n",
       "      <td>Semi-soft Cheese</td>\n",
       "      <td>Cow</td>\n",
       "      <td>Raw Milk</td>\n",
       "      <td>Washed Rind</td>\n",
       "      <td>Gamin (Le)</td>\n",
       "      <td>lower fat</td>\n",
       "    </tr>\n",
       "  </tbody>\n",
       "</table>\n",
       "</div>"
      ],
      "text/plain": [
       "   CheeseId ManufacturerProvCode ManufacturingTypeEn  MoisturePercent  \\\n",
       "0       228                   NB           Farmstead             47.0   \n",
       "1       242                   NB           Farmstead             47.9   \n",
       "2       301                   ON          Industrial             54.0   \n",
       "3       303                   NB           Farmstead             47.0   \n",
       "4       319                   NB           Farmstead             49.4   \n",
       "\n",
       "                                          FlavourEn  \\\n",
       "0                                     Sharp, lactic   \n",
       "1                Sharp, lactic, lightly caramelized   \n",
       "2                           Mild, tangy, and fruity   \n",
       "3  Sharp with fruity notes and a hint of wild honey   \n",
       "4                                      Softer taste   \n",
       "\n",
       "                                   CharacteristicsEn  Organic  \\\n",
       "0                                           Uncooked        0   \n",
       "1                                           Uncooked        0   \n",
       "2  Pressed and cooked cheese, pasta filata, inter...        0   \n",
       "3                                                NaN        0   \n",
       "4                                                NaN        1   \n",
       "\n",
       "     CategoryTypeEn MilkTypeEn MilkTreatmentTypeEn   RindTypeEn  \\\n",
       "0       Firm Cheese        Ewe            Raw Milk  Washed Rind   \n",
       "1  Semi-soft Cheese        Cow            Raw Milk  Washed Rind   \n",
       "2       Firm Cheese        Cow         Pasteurized          NaN   \n",
       "3    Veined Cheeses        Cow            Raw Milk          NaN   \n",
       "4  Semi-soft Cheese        Cow            Raw Milk  Washed Rind   \n",
       "\n",
       "                           CheeseName   FatLevel  \n",
       "0             Sieur de Duplessis (Le)  lower fat  \n",
       "1                 Tomme Le Champ Doré  lower fat  \n",
       "2  Provolone Sette Fette (Tre-Stelle)  lower fat  \n",
       "3                      Geai Bleu (Le)  lower fat  \n",
       "4                          Gamin (Le)  lower fat  "
      ]
     },
     "execution_count": 2,
     "metadata": {},
     "output_type": "execute_result"
    }
   ],
   "source": [
    "# read in data\n",
    "cheese = pd.read_csv(\"data/cheese_data.csv\")\n",
    "\n",
    "# view columns and their data types\n",
    "cheese.head()"
   ]
  },
  {
   "cell_type": "markdown",
   "metadata": {},
   "source": [
    "Table 1: The first 5 rows of the imported dataset"
   ]
  },
  {
   "cell_type": "markdown",
   "metadata": {},
   "source": [
    "\\\n",
    "Then, I filter the dataframe to include only the columns of interest, then print the first 5 rows again."
   ]
  },
  {
   "cell_type": "code",
   "execution_count": 3,
   "metadata": {},
   "outputs": [
    {
     "data": {
      "text/html": [
       "<div>\n",
       "<style scoped>\n",
       "    .dataframe tbody tr th:only-of-type {\n",
       "        vertical-align: middle;\n",
       "    }\n",
       "\n",
       "    .dataframe tbody tr th {\n",
       "        vertical-align: top;\n",
       "    }\n",
       "\n",
       "    .dataframe thead th {\n",
       "        text-align: right;\n",
       "    }\n",
       "</style>\n",
       "<table border=\"1\" class=\"dataframe\">\n",
       "  <thead>\n",
       "    <tr style=\"text-align: right;\">\n",
       "      <th></th>\n",
       "      <th>MoisturePercent</th>\n",
       "      <th>MilkTypeEn</th>\n",
       "      <th>FatLevel</th>\n",
       "    </tr>\n",
       "  </thead>\n",
       "  <tbody>\n",
       "    <tr>\n",
       "      <th>0</th>\n",
       "      <td>47.0</td>\n",
       "      <td>Ewe</td>\n",
       "      <td>lower fat</td>\n",
       "    </tr>\n",
       "    <tr>\n",
       "      <th>1</th>\n",
       "      <td>47.9</td>\n",
       "      <td>Cow</td>\n",
       "      <td>lower fat</td>\n",
       "    </tr>\n",
       "    <tr>\n",
       "      <th>2</th>\n",
       "      <td>54.0</td>\n",
       "      <td>Cow</td>\n",
       "      <td>lower fat</td>\n",
       "    </tr>\n",
       "    <tr>\n",
       "      <th>3</th>\n",
       "      <td>47.0</td>\n",
       "      <td>Cow</td>\n",
       "      <td>lower fat</td>\n",
       "    </tr>\n",
       "    <tr>\n",
       "      <th>4</th>\n",
       "      <td>49.4</td>\n",
       "      <td>Cow</td>\n",
       "      <td>lower fat</td>\n",
       "    </tr>\n",
       "  </tbody>\n",
       "</table>\n",
       "</div>"
      ],
      "text/plain": [
       "   MoisturePercent MilkTypeEn   FatLevel\n",
       "0             47.0        Ewe  lower fat\n",
       "1             47.9        Cow  lower fat\n",
       "2             54.0        Cow  lower fat\n",
       "3             47.0        Cow  lower fat\n",
       "4             49.4        Cow  lower fat"
      ]
     },
     "execution_count": 3,
     "metadata": {},
     "output_type": "execute_result"
    }
   ],
   "source": [
    "# filter feature and target columns\n",
    "cheese = cheese.loc[:, [\"MoisturePercent\", \"MilkTypeEn\", \"FatLevel\"]]\n",
    "cheese.head()"
   ]
  },
  {
   "cell_type": "markdown",
   "metadata": {},
   "source": [
    "Table 2: The first 5 rows of the dataset, filtered for columns of interest"
   ]
  },
  {
   "cell_type": "markdown",
   "metadata": {},
   "source": [
    "\\\n",
    "I split the data frame into a train and test set, using an 80/20 train to test split. "
   ]
  },
  {
   "cell_type": "code",
   "execution_count": 4,
   "metadata": {},
   "outputs": [],
   "source": [
    "cheese_train, cheese_test = train_test_split(cheese, train_size=0.80)"
   ]
  },
  {
   "cell_type": "markdown",
   "metadata": {},
   "source": [
    "\\\n",
    "Next, I would like to know the data types of each column in the training data frame."
   ]
  },
  {
   "cell_type": "code",
   "execution_count": 5,
   "metadata": {
    "tags": []
   },
   "outputs": [
    {
     "name": "stdout",
     "output_type": "stream",
     "text": [
      "<class 'pandas.core.frame.DataFrame'>\n",
      "Index: 833 entries, 44 to 912\n",
      "Data columns (total 3 columns):\n",
      " #   Column           Non-Null Count  Dtype  \n",
      "---  ------           --------------  -----  \n",
      " 0   MoisturePercent  823 non-null    float64\n",
      " 1   MilkTypeEn       832 non-null    object \n",
      " 2   FatLevel         833 non-null    object \n",
      "dtypes: float64(1), object(2)\n",
      "memory usage: 26.0+ KB\n"
     ]
    }
   ],
   "source": [
    "# return dtypes of train data frame\n",
    "cheese_train.info()"
   ]
  },
  {
   "cell_type": "markdown",
   "metadata": {},
   "source": [
    "\\\n",
    "I would like to know more about the values in the **MoisturePercent** column, and the categories in the **MilkTypeEn** and **FatLevel** columns in the training data frame. \\\n",
    "To do this, I print summary statistics for **MoisturePercent**, and categories and their respective counts for **MilkTypeEn** and **FatLevel**.\n",
    "\n"
   ]
  },
  {
   "cell_type": "code",
   "execution_count": 6,
   "metadata": {},
   "outputs": [
    {
     "data": {
      "text/html": [
       "<div>\n",
       "<style scoped>\n",
       "    .dataframe tbody tr th:only-of-type {\n",
       "        vertical-align: middle;\n",
       "    }\n",
       "\n",
       "    .dataframe tbody tr th {\n",
       "        vertical-align: top;\n",
       "    }\n",
       "\n",
       "    .dataframe thead th {\n",
       "        text-align: right;\n",
       "    }\n",
       "</style>\n",
       "<table border=\"1\" class=\"dataframe\">\n",
       "  <thead>\n",
       "    <tr style=\"text-align: right;\">\n",
       "      <th></th>\n",
       "      <th>MoisturePercent</th>\n",
       "    </tr>\n",
       "  </thead>\n",
       "  <tbody>\n",
       "    <tr>\n",
       "      <th>count</th>\n",
       "      <td>823.000000</td>\n",
       "    </tr>\n",
       "    <tr>\n",
       "      <th>mean</th>\n",
       "      <td>46.736209</td>\n",
       "    </tr>\n",
       "    <tr>\n",
       "      <th>std</th>\n",
       "      <td>9.352550</td>\n",
       "    </tr>\n",
       "    <tr>\n",
       "      <th>min</th>\n",
       "      <td>12.000000</td>\n",
       "    </tr>\n",
       "    <tr>\n",
       "      <th>25%</th>\n",
       "      <td>40.000000</td>\n",
       "    </tr>\n",
       "    <tr>\n",
       "      <th>50%</th>\n",
       "      <td>45.000000</td>\n",
       "    </tr>\n",
       "    <tr>\n",
       "      <th>75%</th>\n",
       "      <td>52.000000</td>\n",
       "    </tr>\n",
       "    <tr>\n",
       "      <th>max</th>\n",
       "      <td>88.000000</td>\n",
       "    </tr>\n",
       "  </tbody>\n",
       "</table>\n",
       "</div>"
      ],
      "text/plain": [
       "       MoisturePercent\n",
       "count       823.000000\n",
       "mean         46.736209\n",
       "std           9.352550\n",
       "min          12.000000\n",
       "25%          40.000000\n",
       "50%          45.000000\n",
       "75%          52.000000\n",
       "max          88.000000"
      ]
     },
     "execution_count": 6,
     "metadata": {},
     "output_type": "execute_result"
    }
   ],
   "source": [
    "# print summary statistics\n",
    "cheese_train.describe()"
   ]
  },
  {
   "cell_type": "markdown",
   "metadata": {},
   "source": [
    "Table 3: Summary statistics of the MoisturePercent column"
   ]
  },
  {
   "cell_type": "code",
   "execution_count": 7,
   "metadata": {},
   "outputs": [
    {
     "name": "stdout",
     "output_type": "stream",
     "text": [
      "Milk Type\n",
      " MilkTypeEn\n",
      "Cow                  599\n",
      "Goat                 176\n",
      "Ewe                   40\n",
      "Cow and Goat          10\n",
      "Ewe and Cow            3\n",
      "Ewe and Goat           2\n",
      "Cow, Goat and Ewe      1\n",
      "Buffalo Cow            1\n",
      "Name: count, dtype: int64 \n",
      "\n",
      "Fat Level\n",
      " FatLevel\n",
      "lower fat     537\n",
      "higher fat    296\n",
      "Name: count, dtype: int64\n"
     ]
    }
   ],
   "source": [
    "# print categories and counts\n",
    "print(\n",
    "    \"Milk Type\\n\",\n",
    "    cheese_train[\"MilkTypeEn\"].value_counts(),\n",
    "    \"\\n\\nFat Level\\n\",\n",
    "    cheese_train[\"FatLevel\"].value_counts(),\n",
    ")"
   ]
  },
  {
   "cell_type": "markdown",
   "metadata": {},
   "source": [
    "\\\n",
    "Next, I check if there are any rows in the data with missing (i.e., NaN) values"
   ]
  },
  {
   "cell_type": "code",
   "execution_count": 8,
   "metadata": {},
   "outputs": [
    {
     "data": {
      "text/plain": [
       "MoisturePercent    10\n",
       "MilkTypeEn          1\n",
       "FatLevel            0\n",
       "dtype: int64"
      ]
     },
     "execution_count": 8,
     "metadata": {},
     "output_type": "execute_result"
    }
   ],
   "source": [
    "# return count of missing data by column\n",
    "cheese_train.isna().sum()"
   ]
  },
  {
   "cell_type": "code",
   "execution_count": 9,
   "metadata": {},
   "outputs": [
    {
     "data": {
      "text/html": [
       "<div>\n",
       "<style scoped>\n",
       "    .dataframe tbody tr th:only-of-type {\n",
       "        vertical-align: middle;\n",
       "    }\n",
       "\n",
       "    .dataframe tbody tr th {\n",
       "        vertical-align: top;\n",
       "    }\n",
       "\n",
       "    .dataframe thead th {\n",
       "        text-align: right;\n",
       "    }\n",
       "</style>\n",
       "<table border=\"1\" class=\"dataframe\">\n",
       "  <thead>\n",
       "    <tr style=\"text-align: right;\">\n",
       "      <th></th>\n",
       "      <th>MoisturePercent</th>\n",
       "      <th>MilkTypeEn</th>\n",
       "      <th>FatLevel</th>\n",
       "    </tr>\n",
       "  </thead>\n",
       "  <tbody>\n",
       "    <tr>\n",
       "      <th>703</th>\n",
       "      <td>NaN</td>\n",
       "      <td>Cow</td>\n",
       "      <td>lower fat</td>\n",
       "    </tr>\n",
       "    <tr>\n",
       "      <th>75</th>\n",
       "      <td>NaN</td>\n",
       "      <td>Cow</td>\n",
       "      <td>higher fat</td>\n",
       "    </tr>\n",
       "    <tr>\n",
       "      <th>902</th>\n",
       "      <td>NaN</td>\n",
       "      <td>Ewe</td>\n",
       "      <td>lower fat</td>\n",
       "    </tr>\n",
       "    <tr>\n",
       "      <th>1029</th>\n",
       "      <td>42.0</td>\n",
       "      <td>NaN</td>\n",
       "      <td>higher fat</td>\n",
       "    </tr>\n",
       "    <tr>\n",
       "      <th>141</th>\n",
       "      <td>NaN</td>\n",
       "      <td>Cow</td>\n",
       "      <td>lower fat</td>\n",
       "    </tr>\n",
       "    <tr>\n",
       "      <th>34</th>\n",
       "      <td>NaN</td>\n",
       "      <td>Ewe</td>\n",
       "      <td>lower fat</td>\n",
       "    </tr>\n",
       "    <tr>\n",
       "      <th>142</th>\n",
       "      <td>NaN</td>\n",
       "      <td>Cow</td>\n",
       "      <td>lower fat</td>\n",
       "    </tr>\n",
       "    <tr>\n",
       "      <th>88</th>\n",
       "      <td>NaN</td>\n",
       "      <td>Cow</td>\n",
       "      <td>lower fat</td>\n",
       "    </tr>\n",
       "    <tr>\n",
       "      <th>468</th>\n",
       "      <td>NaN</td>\n",
       "      <td>Cow</td>\n",
       "      <td>lower fat</td>\n",
       "    </tr>\n",
       "    <tr>\n",
       "      <th>61</th>\n",
       "      <td>NaN</td>\n",
       "      <td>Cow</td>\n",
       "      <td>higher fat</td>\n",
       "    </tr>\n",
       "    <tr>\n",
       "      <th>118</th>\n",
       "      <td>NaN</td>\n",
       "      <td>Cow</td>\n",
       "      <td>lower fat</td>\n",
       "    </tr>\n",
       "  </tbody>\n",
       "</table>\n",
       "</div>"
      ],
      "text/plain": [
       "      MoisturePercent MilkTypeEn    FatLevel\n",
       "703               NaN        Cow   lower fat\n",
       "75                NaN        Cow  higher fat\n",
       "902               NaN        Ewe   lower fat\n",
       "1029             42.0        NaN  higher fat\n",
       "141               NaN        Cow   lower fat\n",
       "34                NaN        Ewe   lower fat\n",
       "142               NaN        Cow   lower fat\n",
       "88                NaN        Cow   lower fat\n",
       "468               NaN        Cow   lower fat\n",
       "61                NaN        Cow  higher fat\n",
       "118               NaN        Cow   lower fat"
      ]
     },
     "execution_count": 9,
     "metadata": {},
     "output_type": "execute_result"
    }
   ],
   "source": [
    "# return rows with missing data in any column (rows that will be removed)\n",
    "cheese_train[cheese_train.isna().any(axis=1)]"
   ]
  },
  {
   "cell_type": "markdown",
   "metadata": {},
   "source": [
    "Table 4: Rows of the dataset with NaN values"
   ]
  },
  {
   "cell_type": "markdown",
   "metadata": {},
   "source": [
    "## Data Visualization\n",
    "### Milk Type Proportions\n",
    "I create a bar plot to visualize the proportion of cheeses by milk type"
   ]
  },
  {
   "cell_type": "code",
   "execution_count": 10,
   "metadata": {},
   "outputs": [
    {
     "data": {
      "image/png": "[encoded data removed]",
      "text/plain": [
       "alt.Chart(...)"
      ]
     },
     "execution_count": 10,
     "metadata": {
      "image/png": {
       "height": 424,
       "width": 649
      }
     },
     "output_type": "execute_result"
    }
   ],
   "source": [
    "milk_prop = (\n",
    "    alt.Chart(cheese_train)\n",
    "    .mark_bar(color=\"#4fa7bd\")\n",
    "    .encode(\n",
    "        x=alt.X(\n",
    "            \"MilkTypeEn:N\", title=\"Milk Type\", sort=\"-y\", axis=alt.Axis(labelAngle=-45)\n",
    "        ),\n",
    "        y=alt.Y(\"count():Q\", title=\"Quantity\"),\n",
    "    )\n",
    "    .properties(width=600, height=300, title=\"Cheese Count by Milk Type\")\n",
    "    .transform_filter(\"isValid(datum.MilkTypeEn)\")\n",
    ")\n",
    "milk_prop"
   ]
  },
  {
   "cell_type": "markdown",
   "metadata": {},
   "source": [
    "Figure 1: Counts of cheese by type of milk "
   ]
  },
  {
   "cell_type": "markdown",
   "metadata": {
    "tags": []
   },
   "source": [
    "### Moisture Percentage Distribution\n",
    "Then , I create a histogram to visualize the distribution of moisture percentage"
   ]
  },
  {
   "cell_type": "code",
   "execution_count": 11,
   "metadata": {
    "tags": []
   },
   "outputs": [
    {
     "data": {
      "image/png": "[encoded data removed]",
      "text/plain": [
       "alt.Chart(...)"
      ]
     },
     "execution_count": 11,
     "metadata": {
      "image/png": {
       "height": 359,
       "width": 650
      }
     },
     "output_type": "execute_result"
    }
   ],
   "source": [
    "percent_hist = (\n",
    "    alt.Chart(cheese_train)\n",
    "    .mark_bar(color=\"#739bfa\")\n",
    "    .encode(\n",
    "        alt.X(\"MoisturePercent\", bin=alt.Bin(maxbins=40)), alt.Y(\"count()\", stack=None)\n",
    "    )\n",
    "    .properties(width=600, height=300, title=\"Moisture percent distribution\")\n",
    ")\n",
    "percent_hist"
   ]
  },
  {
   "cell_type": "markdown",
   "metadata": {
    "tags": []
   },
   "source": [
    "Figure 2: Frequency of moisture percentage values"
   ]
  },
  {
   "cell_type": "markdown",
   "metadata": {
    "tags": []
   },
   "source": [
    "### Target Value Distribution\n",
    "Lastly, I create a bar plot to visualize the distribution of the binary target value"
   ]
  },
  {
   "cell_type": "code",
   "execution_count": 12,
   "metadata": {
    "tags": []
   },
   "outputs": [
    {
     "data": {
      "image/png": "[encoded data removed]",
      "text/plain": [
       "alt.Chart(...)"
      ]
     },
     "execution_count": 12,
     "metadata": {
      "image/png": {
       "height": 364,
       "width": 649
      }
     },
     "output_type": "execute_result"
    }
   ],
   "source": [
    "target_dist = (\n",
    "    alt.Chart(cheese_train)\n",
    "    .mark_bar(color=\"#4fa7bd\")\n",
    "    .encode(\n",
    "        x=alt.X(\n",
    "            \"FatLevel:N\", title=\"Fat Level\", sort=\"-y\", axis=alt.Axis(labelAngle=360)\n",
    "        ),\n",
    "        y=alt.Y(\"count():Q\", title=\"Quantity\"),\n",
    "    )\n",
    "    .properties(width=600, height=300, title=\"Cheese Count by Fat Level\")\n",
    ")\n",
    "target_dist"
   ]
  },
  {
   "cell_type": "markdown",
   "metadata": {
    "tags": []
   },
   "source": [
    "Figure 3: Counts of cheese by fat level"
   ]
  },
  {
   "cell_type": "markdown",
   "metadata": {},
   "source": [
    "## Dataset Description\n",
    "The dataset is mostly complete but contains some inconsistencies and missing data points.\n",
    "\n",
    "### Missing Data\n",
    "- Our data set has some missing data points in all features. There are 13 rows out of the total 833 with a missing data point in at least one feature. **MoisturePercent** has 12 NaN value and **MilkTypeEn** has 1 NaN value. \n",
    "\n",
    "### Data Distribution \n",
    "- The **MoisturePercent** column is approximately normally distributed, although it would benefit from scaling in preprocessing.\n",
    "\n",
    "### Class Imbalance \n",
    "- The target variable, **FatLevel**, does exhibit class imbalance, but it is not too severe. I will opt to deal with the class imbalance by using sklearn's `class_weights`"
   ]
  },
  {
   "cell_type": "markdown",
   "metadata": {},
   "source": [
    "## Evaluation Metrics"
   ]
  },
  {
   "cell_type": "markdown",
   "metadata": {},
   "source": [
    "To evaluate the success of the model, I will use a classification matrix, and F1-score.\n",
    "\n",
    "As noted above, we have some class imbalance in the target variable. As such, we should not use accuracy as a measure of our model's success as changing the weight of our classes maydecrease our measure of accuracy, and the resulting measurement may be misleading. I opt to use the F1-score as it combines both precision and recall into a single metric (harmonic mean of the two); however, as this dataset cannot be considered balanced, the sample-weighted F1-score will be used."
   ]
  },
  {
   "cell_type": "markdown",
   "metadata": {},
   "source": [
    "# Preprocessing"
   ]
  },
  {
   "cell_type": "markdown",
   "metadata": {
    "tags": []
   },
   "source": [
    "## Cleaning the Data\n",
    "Before separating the features from the target, I have to resolve missing data points addressed in the dataset description above. \\\n",
    "I begin by removing all rows in the training and test datasets that contain at least one NaN value. I opt to do this rather than using imputation as there is a very low proportion of rows in the data with missing values."
   ]
  },
  {
   "cell_type": "code",
   "execution_count": 13,
   "metadata": {
    "tags": []
   },
   "outputs": [
    {
     "data": {
      "text/html": [
       "<div>\n",
       "<style scoped>\n",
       "    .dataframe tbody tr th:only-of-type {\n",
       "        vertical-align: middle;\n",
       "    }\n",
       "\n",
       "    .dataframe tbody tr th {\n",
       "        vertical-align: top;\n",
       "    }\n",
       "\n",
       "    .dataframe thead th {\n",
       "        text-align: right;\n",
       "    }\n",
       "</style>\n",
       "<table border=\"1\" class=\"dataframe\">\n",
       "  <thead>\n",
       "    <tr style=\"text-align: right;\">\n",
       "      <th></th>\n",
       "      <th>MoisturePercent</th>\n",
       "      <th>MilkTypeEn</th>\n",
       "      <th>FatLevel</th>\n",
       "    </tr>\n",
       "  </thead>\n",
       "  <tbody>\n",
       "    <tr>\n",
       "      <th>44</th>\n",
       "      <td>40.0</td>\n",
       "      <td>Goat</td>\n",
       "      <td>higher fat</td>\n",
       "    </tr>\n",
       "    <tr>\n",
       "      <th>256</th>\n",
       "      <td>46.0</td>\n",
       "      <td>Cow</td>\n",
       "      <td>lower fat</td>\n",
       "    </tr>\n",
       "    <tr>\n",
       "      <th>381</th>\n",
       "      <td>39.0</td>\n",
       "      <td>Cow</td>\n",
       "      <td>higher fat</td>\n",
       "    </tr>\n",
       "    <tr>\n",
       "      <th>132</th>\n",
       "      <td>55.0</td>\n",
       "      <td>Cow</td>\n",
       "      <td>lower fat</td>\n",
       "    </tr>\n",
       "    <tr>\n",
       "      <th>373</th>\n",
       "      <td>60.0</td>\n",
       "      <td>Goat</td>\n",
       "      <td>lower fat</td>\n",
       "    </tr>\n",
       "    <tr>\n",
       "      <th>...</th>\n",
       "      <td>...</td>\n",
       "      <td>...</td>\n",
       "      <td>...</td>\n",
       "    </tr>\n",
       "    <tr>\n",
       "      <th>624</th>\n",
       "      <td>60.0</td>\n",
       "      <td>Goat</td>\n",
       "      <td>lower fat</td>\n",
       "    </tr>\n",
       "    <tr>\n",
       "      <th>927</th>\n",
       "      <td>40.0</td>\n",
       "      <td>Cow</td>\n",
       "      <td>lower fat</td>\n",
       "    </tr>\n",
       "    <tr>\n",
       "      <th>421</th>\n",
       "      <td>50.0</td>\n",
       "      <td>Cow</td>\n",
       "      <td>lower fat</td>\n",
       "    </tr>\n",
       "    <tr>\n",
       "      <th>823</th>\n",
       "      <td>52.0</td>\n",
       "      <td>Cow</td>\n",
       "      <td>lower fat</td>\n",
       "    </tr>\n",
       "    <tr>\n",
       "      <th>912</th>\n",
       "      <td>46.0</td>\n",
       "      <td>Cow</td>\n",
       "      <td>lower fat</td>\n",
       "    </tr>\n",
       "  </tbody>\n",
       "</table>\n",
       "<p>822 rows × 3 columns</p>\n",
       "</div>"
      ],
      "text/plain": [
       "     MoisturePercent MilkTypeEn    FatLevel\n",
       "44              40.0       Goat  higher fat\n",
       "256             46.0        Cow   lower fat\n",
       "381             39.0        Cow  higher fat\n",
       "132             55.0        Cow   lower fat\n",
       "373             60.0       Goat   lower fat\n",
       "..               ...        ...         ...\n",
       "624             60.0       Goat   lower fat\n",
       "927             40.0        Cow   lower fat\n",
       "421             50.0        Cow   lower fat\n",
       "823             52.0        Cow   lower fat\n",
       "912             46.0        Cow   lower fat\n",
       "\n",
       "[822 rows x 3 columns]"
      ]
     },
     "execution_count": 13,
     "metadata": {},
     "output_type": "execute_result"
    }
   ],
   "source": [
    "# Remove NaN rows\n",
    "cheese_train = cheese_train.dropna()\n",
    "cheese_test = cheese_test.dropna()\n",
    "cheese_train"
   ]
  },
  {
   "cell_type": "markdown",
   "metadata": {
    "tags": []
   },
   "source": [
    "Table 5: Cleaned dataset, having removed rows with NaN values"
   ]
  },
  {
   "cell_type": "markdown",
   "metadata": {
    "tags": []
   },
   "source": [
    "Next, I separate the features from the targets"
   ]
  },
  {
   "cell_type": "code",
   "execution_count": 14,
   "metadata": {
    "tags": []
   },
   "outputs": [],
   "source": [
    "X_train = cheese_train.drop(columns=\"FatLevel\")\n",
    "y_train = cheese_train[\"FatLevel\"]\n",
    "X_test = cheese_test.drop(columns=\"FatLevel\")\n",
    "y_test = cheese_test[\"FatLevel\"]"
   ]
  },
  {
   "cell_type": "markdown",
   "metadata": {
    "tags": []
   },
   "source": [
    "Then I create lists for the categorical and numerical variables"
   ]
  },
  {
   "cell_type": "code",
   "execution_count": 15,
   "metadata": {
    "tags": []
   },
   "outputs": [
    {
     "name": "stdout",
     "output_type": "stream",
     "text": [
      "['MilkTypeEn'] ['MoisturePercent']\n"
     ]
    }
   ],
   "source": [
    "cat_feat = [\"MilkTypeEn\"]\n",
    "num_feat = [\"MoisturePercent\"]\n",
    "print(cat_feat, num_feat)"
   ]
  },
  {
   "cell_type": "markdown",
   "metadata": {
    "tags": []
   },
   "source": [
    "## Defining a Column Transformer\n",
    "I make pipelines for the numerical and categorical columns, then define a column transformer for prepreocessing the data. The `StandardScaler` is used for the numerical column pipeline to normalize the data. The `OneHotEncoder` is used for the categorical column pipeline as no ordinal categorical columns are present in the data (as opposed to using `OrdinalEncoder`). "
   ]
  },
  {
   "cell_type": "code",
   "execution_count": 16,
   "metadata": {
    "tags": []
   },
   "outputs": [],
   "source": [
    "# make numerical column pipeline\n",
    "num_transform = make_pipeline(StandardScaler())\n",
    "\n",
    "# make categorical column pipeline\n",
    "cat_transform = make_pipeline(\n",
    "    SimpleImputer(strategy=\"most_frequent\"),\n",
    "    OneHotEncoder(dtype=int, handle_unknown=\"ignore\"),\n",
    ")\n",
    "\n",
    "# define column transformer\n",
    "preprocess = make_column_transformer(\n",
    "    (num_transform, num_feat), (cat_transform, cat_feat)\n",
    ")"
   ]
  },
  {
   "cell_type": "markdown",
   "metadata": {},
   "source": [
    "# Methods & Results\n",
    "## Code"
   ]
  },
  {
   "cell_type": "markdown",
   "metadata": {},
   "source": [
    "### Training a Baseline Model\n",
    "First, I create a baseline model for reference using `DummyClassifier` and perform 5-fold cross validation on it. Then, I print out the mean of the scores returned from cross validation."
   ]
  },
  {
   "cell_type": "code",
   "execution_count": 17,
   "metadata": {},
   "outputs": [
    {
     "name": "stdout",
     "output_type": "stream",
     "text": [
      "fit_time       0.000414\n",
      "score_time     0.000589\n",
      "test_score     0.526792\n",
      "train_score    0.550785\n",
      "dtype: float64\n"
     ]
    }
   ],
   "source": [
    "dummy = DummyClassifier(strategy=\"stratified\")\n",
    "dummy.fit(X_train, y_train)\n",
    "dummy_score = pd.DataFrame(\n",
    "    cross_validate(dummy, X_train, y_train, return_train_score=True)\n",
    ")\n",
    "dummy_score\n",
    "print(dummy_score.mean())"
   ]
  },
  {
   "cell_type": "markdown",
   "metadata": {},
   "source": [
    "### Training a Linear Model\n",
    "Next, I create a linear logistic regression model using `LogisticRegression` and perform 5-fold cross validation on it. Lasty, I print out the mean of the cross validation scores."
   ]
  },
  {
   "cell_type": "code",
   "execution_count": 18,
   "metadata": {},
   "outputs": [
    {
     "name": "stdout",
     "output_type": "stream",
     "text": [
      "fit_time       0.006707\n",
      "score_time     0.002402\n",
      "test_score     0.760340\n",
      "train_score    0.762773\n",
      "dtype: float64\n"
     ]
    }
   ],
   "source": [
    "lr_pipe = make_pipeline(preprocess, LogisticRegression())\n",
    "lr_score = pd.DataFrame(\n",
    "    cross_validate(lr_pipe, X_train, y_train, return_train_score=True)\n",
    ")\n",
    "print(lr_score.mean())"
   ]
  },
  {
   "cell_type": "markdown",
   "metadata": {},
   "source": [
    "### Additional Models "
   ]
  },
  {
   "cell_type": "markdown",
   "metadata": {},
   "source": [
    "#### Random Forest Classifier\n",
    "To begin exploration of alternative models, I choose to use sklearn's `RandomForestClassifier`. I first create a pipeline that transforms columns using the **preprocess** transformer. Then, I perform 5-fold cross validation on the training data and I print out the mean of the scores returned."
   ]
  },
  {
   "cell_type": "code",
   "execution_count": 19,
   "metadata": {},
   "outputs": [
    {
     "name": "stdout",
     "output_type": "stream",
     "text": [
      "fit_time       0.093747\n",
      "score_time     0.005648\n",
      "test_score     0.806534\n",
      "train_score    0.846106\n",
      "dtype: float64\n"
     ]
    }
   ],
   "source": [
    "rfc_pipe = make_pipeline(preprocess, RandomForestClassifier())\n",
    "rfc_score = pd.DataFrame(\n",
    "    cross_validate(rfc_pipe, X_train, y_train, cv=5, return_train_score=True)\n",
    ")\n",
    "print(rfc_score.mean())"
   ]
  },
  {
   "cell_type": "markdown",
   "metadata": {},
   "source": [
    "#### Support Vector Classifier\n",
    "Next, I try the support vector machine classifier using sklearn's `SVC`. I make a pipeline to transform the columns using **preprocess**. Then, I perform 5-fold cross validation on the training data and I print out the mean scores."
   ]
  },
  {
   "cell_type": "code",
   "execution_count": 20,
   "metadata": {
    "tags": []
   },
   "outputs": [
    {
     "name": "stdout",
     "output_type": "stream",
     "text": [
      "fit_time       0.008007\n",
      "score_time     0.002904\n",
      "test_score     0.800495\n",
      "train_score    0.802616\n",
      "dtype: float64\n"
     ]
    }
   ],
   "source": [
    "svc_pipe = make_pipeline(preprocess, SVC())\n",
    "svc_score = pd.DataFrame(\n",
    "    cross_validate(svc_pipe, X_train, y_train, return_train_score=True)\n",
    ")\n",
    "print(svc_score.mean())"
   ]
  },
  {
   "cell_type": "markdown",
   "metadata": {
    "tags": []
   },
   "source": [
    "#### KNN Classifier\n",
    "As a final model, I try the K nearest neighbors classifier using sklearn's `KNeighborsClassifier`, perform 5-fold cross validation and return the mean scores."
   ]
  },
  {
   "cell_type": "code",
   "execution_count": 21,
   "metadata": {
    "tags": []
   },
   "outputs": [
    {
     "name": "stdout",
     "output_type": "stream",
     "text": [
      "fit_time       0.004805\n",
      "score_time     0.012614\n",
      "test_score     0.813880\n",
      "train_score    0.829679\n",
      "dtype: float64\n"
     ]
    }
   ],
   "source": [
    "knn_pipe = make_pipeline(preprocess, KNeighborsClassifier())\n",
    "knn_score = pd.DataFrame(\n",
    "    cross_validate(knn_pipe, X_train, y_train, return_train_score=True)\n",
    ")\n",
    "print(knn_score.mean())"
   ]
  },
  {
   "cell_type": "markdown",
   "metadata": {
    "tags": []
   },
   "source": [
    "#### The training scores for the 5 models explored are as follows:"
   ]
  },
  {
   "cell_type": "code",
   "execution_count": 22,
   "metadata": {
    "tags": []
   },
   "outputs": [
    {
     "name": "stdout",
     "output_type": "stream",
     "text": [
      "Model training scores: \n",
      "Dummy Classifier:  0.5507853233589171\n",
      "Logistic Regression:  0.7627731282933847\n",
      "Random Forest Classifier:  0.8461057676738235\n",
      "Support Vector Classifier:  0.8026162024121802\n",
      "KNN Classifier:  0.8296789773910145\n"
     ]
    }
   ],
   "source": [
    "print_dict = {\"Dummy Classifier: \": dummy_score['train_score'],\n",
    "              \"Logistic Regression: \": lr_score['train_score'],\n",
    "              \"Random Forest Classifier: \": rfc_score['train_score'],\n",
    "              \"Support Vector Classifier: \": svc_score['train_score'],\n",
    "              \"KNN Classifier: \": knn_score['train_score']}\n",
    "\n",
    "print(\"Model training scores: \")\n",
    "for k, v in print_dict.items():\n",
    "    print(k, v.mean())"
   ]
  },
  {
   "cell_type": "markdown",
   "metadata": {
    "tags": []
   },
   "source": [
    "Based on mean training scores, the most suitable models appear to be random forest classifier and k nearest neighbors classifier. Therefore, the next step is to perform hyperparameter tuning on these two models."
   ]
  },
  {
   "cell_type": "markdown",
   "metadata": {
    "tags": []
   },
   "source": [
    "### Hyperparameter Optimization\n",
    "#### Random Forest Classifier\n",
    "Using `RandomizedSearchCV` on the random forest classifier pipeline, I aim to determine the optimal value for **n_estimators**. "
   ]
  },
  {
   "cell_type": "code",
   "execution_count": 23,
   "metadata": {
    "tags": []
   },
   "outputs": [
    {
     "name": "stdout",
     "output_type": "stream",
     "text": [
      "Fitting 5 folds for each of 5 candidates, totalling 25 fits\n",
      "[CV] END ...............randomforestclassifier__max_depth=31; total time=   0.0s\n",
      "[CV] END ...............randomforestclassifier__max_depth=31; total time=   0.0s\n",
      "[CV] END ...............randomforestclassifier__max_depth=31; total time=   0.0s\n",
      "[CV] END ...............randomforestclassifier__max_depth=31; total time=   0.0s\n",
      "[CV] END ...............randomforestclassifier__max_depth=31; total time=   0.0s\n",
      "[CV] END ...............randomforestclassifier__max_depth=11; total time=   0.0s\n",
      "[CV] END ...............randomforestclassifier__max_depth=11; total time=   0.0s\n",
      "[CV] END ...............randomforestclassifier__max_depth=11; total time=   0.0s\n",
      "[CV] END ...............randomforestclassifier__max_depth=11; total time=   0.0s\n",
      "[CV] END ...............randomforestclassifier__max_depth=11; total time=   0.0s\n",
      "[CV] END ...............randomforestclassifier__max_depth=51; total time=   0.0s\n",
      "[CV] END ...............randomforestclassifier__max_depth=51; total time=   0.0s\n",
      "[CV] END ...............randomforestclassifier__max_depth=51; total time=   0.0s\n",
      "[CV] END ...............randomforestclassifier__max_depth=51; total time=   0.0s\n",
      "[CV] END ...............randomforestclassifier__max_depth=51; total time=   0.0s\n",
      "[CV] END ..............randomforestclassifier__max_depth=111; total time=   0.0s\n",
      "[CV] END ..............randomforestclassifier__max_depth=111; total time=   0.0s\n",
      "[CV] END ..............randomforestclassifier__max_depth=111; total time=   0.0s\n",
      "[CV] END ..............randomforestclassifier__max_depth=111; total time=   0.0s\n",
      "[CV] END ..............randomforestclassifier__max_depth=111; total time=   0.0s\n",
      "[CV] END ...............randomforestclassifier__max_depth=41; total time=   0.0s\n",
      "[CV] END ...............randomforestclassifier__max_depth=41; total time=   0.0s\n",
      "[CV] END ...............randomforestclassifier__max_depth=41; total time=   0.0s\n",
      "[CV] END ...............randomforestclassifier__max_depth=41; total time=   0.0s\n",
      "[CV] END ...............randomforestclassifier__max_depth=41; total time=   0.0s\n"
     ]
    },
    {
     "data": {
      "text/html": [
       "<style>#sk-container-id-1 {\n",
       "  /* Definition of color scheme common for light and dark mode */\n",
       "  --sklearn-color-text: black;\n",
       "  --sklearn-color-line: gray;\n",
       "  /* Definition of color scheme for unfitted estimators */\n",
       "  --sklearn-color-unfitted-level-0: #fff5e6;\n",
       "  --sklearn-color-unfitted-level-1: #f6e4d2;\n",
       "  --sklearn-color-unfitted-level-2: #ffe0b3;\n",
       "  --sklearn-color-unfitted-level-3: chocolate;\n",
       "  /* Definition of color scheme for fitted estimators */\n",
       "  --sklearn-color-fitted-level-0: #f0f8ff;\n",
       "  --sklearn-color-fitted-level-1: #d4ebff;\n",
       "  --sklearn-color-fitted-level-2: #b3dbfd;\n",
       "  --sklearn-color-fitted-level-3: cornflowerblue;\n",
       "\n",
       "  /* Specific color for light theme */\n",
       "  --sklearn-color-text-on-default-background: var(--sg-text-color, var(--theme-code-foreground, var(--jp-content-font-color1, black)));\n",
       "  --sklearn-color-background: var(--sg-background-color, var(--theme-background, var(--jp-layout-color0, white)));\n",
       "  --sklearn-color-border-box: var(--sg-text-color, var(--theme-code-foreground, var(--jp-content-font-color1, black)));\n",
       "  --sklearn-color-icon: #696969;\n",
       "\n",
       "  @media (prefers-color-scheme: dark) {\n",
       "    /* Redefinition of color scheme for dark theme */\n",
       "    --sklearn-color-text-on-default-background: var(--sg-text-color, var(--theme-code-foreground, var(--jp-content-font-color1, white)));\n",
       "    --sklearn-color-background: var(--sg-background-color, var(--theme-background, var(--jp-layout-color0, #111)));\n",
       "    --sklearn-color-border-box: var(--sg-text-color, var(--theme-code-foreground, var(--jp-content-font-color1, white)));\n",
       "    --sklearn-color-icon: #878787;\n",
       "  }\n",
       "}\n",
       "\n",
       "#sk-container-id-1 {\n",
       "  color: var(--sklearn-color-text);\n",
       "}\n",
       "\n",
       "#sk-container-id-1 pre {\n",
       "  padding: 0;\n",
       "}\n",
       "\n",
       "#sk-container-id-1 input.sk-hidden--visually {\n",
       "  border: 0;\n",
       "  clip: rect(1px 1px 1px 1px);\n",
       "  clip: rect(1px, 1px, 1px, 1px);\n",
       "  height: 1px;\n",
       "  margin: -1px;\n",
       "  overflow: hidden;\n",
       "  padding: 0;\n",
       "  position: absolute;\n",
       "  width: 1px;\n",
       "}\n",
       "\n",
       "#sk-container-id-1 div.sk-dashed-wrapped {\n",
       "  border: 1px dashed var(--sklearn-color-line);\n",
       "  margin: 0 0.4em 0.5em 0.4em;\n",
       "  box-sizing: border-box;\n",
       "  padding-bottom: 0.4em;\n",
       "  background-color: var(--sklearn-color-background);\n",
       "}\n",
       "\n",
       "#sk-container-id-1 div.sk-container {\n",
       "  /* jupyter's `normalize.less` sets `[hidden] { display: none; }`\n",
       "     but bootstrap.min.css set `[hidden] { display: none !important; }`\n",
       "     so we also need the `!important` here to be able to override the\n",
       "     default hidden behavior on the sphinx rendered scikit-learn.org.\n",
       "     See: https://github.com/scikit-learn/scikit-learn/issues/21755 */\n",
       "  display: inline-block !important;\n",
       "  position: relative;\n",
       "}\n",
       "\n",
       "#sk-container-id-1 div.sk-text-repr-fallback {\n",
       "  display: none;\n",
       "}\n",
       "\n",
       "div.sk-parallel-item,\n",
       "div.sk-serial,\n",
       "div.sk-item {\n",
       "  /* draw centered vertical line to link estimators */\n",
       "  background-image: linear-gradient(var(--sklearn-color-text-on-default-background), var(--sklearn-color-text-on-default-background));\n",
       "  background-size: 2px 100%;\n",
       "  background-repeat: no-repeat;\n",
       "  background-position: center center;\n",
       "}\n",
       "\n",
       "/* Parallel-specific style estimator block */\n",
       "\n",
       "#sk-container-id-1 div.sk-parallel-item::after {\n",
       "  content: \"\";\n",
       "  width: 100%;\n",
       "  border-bottom: 2px solid var(--sklearn-color-text-on-default-background);\n",
       "  flex-grow: 1;\n",
       "}\n",
       "\n",
       "#sk-container-id-1 div.sk-parallel {\n",
       "  display: flex;\n",
       "  align-items: stretch;\n",
       "  justify-content: center;\n",
       "  background-color: var(--sklearn-color-background);\n",
       "  position: relative;\n",
       "}\n",
       "\n",
       "#sk-container-id-1 div.sk-parallel-item {\n",
       "  display: flex;\n",
       "  flex-direction: column;\n",
       "}\n",
       "\n",
       "#sk-container-id-1 div.sk-parallel-item:first-child::after {\n",
       "  align-self: flex-end;\n",
       "  width: 50%;\n",
       "}\n",
       "\n",
       "#sk-container-id-1 div.sk-parallel-item:last-child::after {\n",
       "  align-self: flex-start;\n",
       "  width: 50%;\n",
       "}\n",
       "\n",
       "#sk-container-id-1 div.sk-parallel-item:only-child::after {\n",
       "  width: 0;\n",
       "}\n",
       "\n",
       "/* Serial-specific style estimator block */\n",
       "\n",
       "#sk-container-id-1 div.sk-serial {\n",
       "  display: flex;\n",
       "  flex-direction: column;\n",
       "  align-items: center;\n",
       "  background-color: var(--sklearn-color-background);\n",
       "  padding-right: 1em;\n",
       "  padding-left: 1em;\n",
       "}\n",
       "\n",
       "\n",
       "/* Toggleable style: style used for estimator/Pipeline/ColumnTransformer box that is\n",
       "clickable and can be expanded/collapsed.\n",
       "- Pipeline and ColumnTransformer use this feature and define the default style\n",
       "- Estimators will overwrite some part of the style using the `sk-estimator` class\n",
       "*/\n",
       "\n",
       "/* Pipeline and ColumnTransformer style (default) */\n",
       "\n",
       "#sk-container-id-1 div.sk-toggleable {\n",
       "  /* Default theme specific background. It is overwritten whether we have a\n",
       "  specific estimator or a Pipeline/ColumnTransformer */\n",
       "  background-color: var(--sklearn-color-background);\n",
       "}\n",
       "\n",
       "/* Toggleable label */\n",
       "#sk-container-id-1 label.sk-toggleable__label {\n",
       "  cursor: pointer;\n",
       "  display: block;\n",
       "  width: 100%;\n",
       "  margin-bottom: 0;\n",
       "  padding: 0.5em;\n",
       "  box-sizing: border-box;\n",
       "  text-align: center;\n",
       "}\n",
       "\n",
       "#sk-container-id-1 label.sk-toggleable__label-arrow:before {\n",
       "  /* Arrow on the left of the label */\n",
       "  content: \"▸\";\n",
       "  float: left;\n",
       "  margin-right: 0.25em;\n",
       "  color: var(--sklearn-color-icon);\n",
       "}\n",
       "\n",
       "#sk-container-id-1 label.sk-toggleable__label-arrow:hover:before {\n",
       "  color: var(--sklearn-color-text);\n",
       "}\n",
       "\n",
       "/* Toggleable content - dropdown */\n",
       "\n",
       "#sk-container-id-1 div.sk-toggleable__content {\n",
       "  max-height: 0;\n",
       "  max-width: 0;\n",
       "  overflow: hidden;\n",
       "  text-align: left;\n",
       "  /* unfitted */\n",
       "  background-color: var(--sklearn-color-unfitted-level-0);\n",
       "}\n",
       "\n",
       "#sk-container-id-1 div.sk-toggleable__content.fitted {\n",
       "  /* fitted */\n",
       "  background-color: var(--sklearn-color-fitted-level-0);\n",
       "}\n",
       "\n",
       "#sk-container-id-1 div.sk-toggleable__content pre {\n",
       "  margin: 0.2em;\n",
       "  border-radius: 0.25em;\n",
       "  color: var(--sklearn-color-text);\n",
       "  /* unfitted */\n",
       "  background-color: var(--sklearn-color-unfitted-level-0);\n",
       "}\n",
       "\n",
       "#sk-container-id-1 div.sk-toggleable__content.fitted pre {\n",
       "  /* unfitted */\n",
       "  background-color: var(--sklearn-color-fitted-level-0);\n",
       "}\n",
       "\n",
       "#sk-container-id-1 input.sk-toggleable__control:checked~div.sk-toggleable__content {\n",
       "  /* Expand drop-down */\n",
       "  max-height: 200px;\n",
       "  max-width: 100%;\n",
       "  overflow: auto;\n",
       "}\n",
       "\n",
       "#sk-container-id-1 input.sk-toggleable__control:checked~label.sk-toggleable__label-arrow:before {\n",
       "  content: \"▾\";\n",
       "}\n",
       "\n",
       "/* Pipeline/ColumnTransformer-specific style */\n",
       "\n",
       "#sk-container-id-1 div.sk-label input.sk-toggleable__control:checked~label.sk-toggleable__label {\n",
       "  color: var(--sklearn-color-text);\n",
       "  background-color: var(--sklearn-color-unfitted-level-2);\n",
       "}\n",
       "\n",
       "#sk-container-id-1 div.sk-label.fitted input.sk-toggleable__control:checked~label.sk-toggleable__label {\n",
       "  background-color: var(--sklearn-color-fitted-level-2);\n",
       "}\n",
       "\n",
       "/* Estimator-specific style */\n",
       "\n",
       "/* Colorize estimator box */\n",
       "#sk-container-id-1 div.sk-estimator input.sk-toggleable__control:checked~label.sk-toggleable__label {\n",
       "  /* unfitted */\n",
       "  background-color: var(--sklearn-color-unfitted-level-2);\n",
       "}\n",
       "\n",
       "#sk-container-id-1 div.sk-estimator.fitted input.sk-toggleable__control:checked~label.sk-toggleable__label {\n",
       "  /* fitted */\n",
       "  background-color: var(--sklearn-color-fitted-level-2);\n",
       "}\n",
       "\n",
       "#sk-container-id-1 div.sk-label label.sk-toggleable__label,\n",
       "#sk-container-id-1 div.sk-label label {\n",
       "  /* The background is the default theme color */\n",
       "  color: var(--sklearn-color-text-on-default-background);\n",
       "}\n",
       "\n",
       "/* On hover, darken the color of the background */\n",
       "#sk-container-id-1 div.sk-label:hover label.sk-toggleable__label {\n",
       "  color: var(--sklearn-color-text);\n",
       "  background-color: var(--sklearn-color-unfitted-level-2);\n",
       "}\n",
       "\n",
       "/* Label box, darken color on hover, fitted */\n",
       "#sk-container-id-1 div.sk-label.fitted:hover label.sk-toggleable__label.fitted {\n",
       "  color: var(--sklearn-color-text);\n",
       "  background-color: var(--sklearn-color-fitted-level-2);\n",
       "}\n",
       "\n",
       "/* Estimator label */\n",
       "\n",
       "#sk-container-id-1 div.sk-label label {\n",
       "  font-family: monospace;\n",
       "  font-weight: bold;\n",
       "  display: inline-block;\n",
       "  line-height: 1.2em;\n",
       "}\n",
       "\n",
       "#sk-container-id-1 div.sk-label-container {\n",
       "  text-align: center;\n",
       "}\n",
       "\n",
       "/* Estimator-specific */\n",
       "#sk-container-id-1 div.sk-estimator {\n",
       "  font-family: monospace;\n",
       "  border: 1px dotted var(--sklearn-color-border-box);\n",
       "  border-radius: 0.25em;\n",
       "  box-sizing: border-box;\n",
       "  margin-bottom: 0.5em;\n",
       "  /* unfitted */\n",
       "  background-color: var(--sklearn-color-unfitted-level-0);\n",
       "}\n",
       "\n",
       "#sk-container-id-1 div.sk-estimator.fitted {\n",
       "  /* fitted */\n",
       "  background-color: var(--sklearn-color-fitted-level-0);\n",
       "}\n",
       "\n",
       "/* on hover */\n",
       "#sk-container-id-1 div.sk-estimator:hover {\n",
       "  /* unfitted */\n",
       "  background-color: var(--sklearn-color-unfitted-level-2);\n",
       "}\n",
       "\n",
       "#sk-container-id-1 div.sk-estimator.fitted:hover {\n",
       "  /* fitted */\n",
       "  background-color: var(--sklearn-color-fitted-level-2);\n",
       "}\n",
       "\n",
       "/* Specification for estimator info (e.g. \"i\" and \"?\") */\n",
       "\n",
       "/* Common style for \"i\" and \"?\" */\n",
       "\n",
       ".sk-estimator-doc-link,\n",
       "a:link.sk-estimator-doc-link,\n",
       "a:visited.sk-estimator-doc-link {\n",
       "  float: right;\n",
       "  font-size: smaller;\n",
       "  line-height: 1em;\n",
       "  font-family: monospace;\n",
       "  background-color: var(--sklearn-color-background);\n",
       "  border-radius: 1em;\n",
       "  height: 1em;\n",
       "  width: 1em;\n",
       "  text-decoration: none !important;\n",
       "  margin-left: 1ex;\n",
       "  /* unfitted */\n",
       "  border: var(--sklearn-color-unfitted-level-1) 1pt solid;\n",
       "  color: var(--sklearn-color-unfitted-level-1);\n",
       "}\n",
       "\n",
       ".sk-estimator-doc-link.fitted,\n",
       "a:link.sk-estimator-doc-link.fitted,\n",
       "a:visited.sk-estimator-doc-link.fitted {\n",
       "  /* fitted */\n",
       "  border: var(--sklearn-color-fitted-level-1) 1pt solid;\n",
       "  color: var(--sklearn-color-fitted-level-1);\n",
       "}\n",
       "\n",
       "/* On hover */\n",
       "div.sk-estimator:hover .sk-estimator-doc-link:hover,\n",
       ".sk-estimator-doc-link:hover,\n",
       "div.sk-label-container:hover .sk-estimator-doc-link:hover,\n",
       ".sk-estimator-doc-link:hover {\n",
       "  /* unfitted */\n",
       "  background-color: var(--sklearn-color-unfitted-level-3);\n",
       "  color: var(--sklearn-color-background);\n",
       "  text-decoration: none;\n",
       "}\n",
       "\n",
       "div.sk-estimator.fitted:hover .sk-estimator-doc-link.fitted:hover,\n",
       ".sk-estimator-doc-link.fitted:hover,\n",
       "div.sk-label-container:hover .sk-estimator-doc-link.fitted:hover,\n",
       ".sk-estimator-doc-link.fitted:hover {\n",
       "  /* fitted */\n",
       "  background-color: var(--sklearn-color-fitted-level-3);\n",
       "  color: var(--sklearn-color-background);\n",
       "  text-decoration: none;\n",
       "}\n",
       "\n",
       "/* Span, style for the box shown on hovering the info icon */\n",
       ".sk-estimator-doc-link span {\n",
       "  display: none;\n",
       "  z-index: 9999;\n",
       "  position: relative;\n",
       "  font-weight: normal;\n",
       "  right: .2ex;\n",
       "  padding: .5ex;\n",
       "  margin: .5ex;\n",
       "  width: min-content;\n",
       "  min-width: 20ex;\n",
       "  max-width: 50ex;\n",
       "  color: var(--sklearn-color-text);\n",
       "  box-shadow: 2pt 2pt 4pt #999;\n",
       "  /* unfitted */\n",
       "  background: var(--sklearn-color-unfitted-level-0);\n",
       "  border: .5pt solid var(--sklearn-color-unfitted-level-3);\n",
       "}\n",
       "\n",
       ".sk-estimator-doc-link.fitted span {\n",
       "  /* fitted */\n",
       "  background: var(--sklearn-color-fitted-level-0);\n",
       "  border: var(--sklearn-color-fitted-level-3);\n",
       "}\n",
       "\n",
       ".sk-estimator-doc-link:hover span {\n",
       "  display: block;\n",
       "}\n",
       "\n",
       "/* \"?\"-specific style due to the `<a>` HTML tag */\n",
       "\n",
       "#sk-container-id-1 a.estimator_doc_link {\n",
       "  float: right;\n",
       "  font-size: 1rem;\n",
       "  line-height: 1em;\n",
       "  font-family: monospace;\n",
       "  background-color: var(--sklearn-color-background);\n",
       "  border-radius: 1rem;\n",
       "  height: 1rem;\n",
       "  width: 1rem;\n",
       "  text-decoration: none;\n",
       "  /* unfitted */\n",
       "  color: var(--sklearn-color-unfitted-level-1);\n",
       "  border: var(--sklearn-color-unfitted-level-1) 1pt solid;\n",
       "}\n",
       "\n",
       "#sk-container-id-1 a.estimator_doc_link.fitted {\n",
       "  /* fitted */\n",
       "  border: var(--sklearn-color-fitted-level-1) 1pt solid;\n",
       "  color: var(--sklearn-color-fitted-level-1);\n",
       "}\n",
       "\n",
       "/* On hover */\n",
       "#sk-container-id-1 a.estimator_doc_link:hover {\n",
       "  /* unfitted */\n",
       "  background-color: var(--sklearn-color-unfitted-level-3);\n",
       "  color: var(--sklearn-color-background);\n",
       "  text-decoration: none;\n",
       "}\n",
       "\n",
       "#sk-container-id-1 a.estimator_doc_link.fitted:hover {\n",
       "  /* fitted */\n",
       "  background-color: var(--sklearn-color-fitted-level-3);\n",
       "}\n",
       "</style><div id=\"sk-container-id-1\" class=\"sk-top-container\"><div class=\"sk-text-repr-fallback\"><pre>RandomizedSearchCV(cv=5,\n",
       "                   estimator=Pipeline(steps=[(&#x27;columntransformer&#x27;,\n",
       "                                              ColumnTransformer(transformers=[(&#x27;pipeline-1&#x27;,\n",
       "                                                                               Pipeline(steps=[(&#x27;standardscaler&#x27;,\n",
       "                                                                                                StandardScaler())]),\n",
       "                                                                               [&#x27;MoisturePercent&#x27;]),\n",
       "                                                                              (&#x27;pipeline-2&#x27;,\n",
       "                                                                               Pipeline(steps=[(&#x27;simpleimputer&#x27;,\n",
       "                                                                                                SimpleImputer(strategy=&#x27;most_frequent&#x27;)),\n",
       "                                                                                               (&#x27;onehotencoder&#x27;,\n",
       "                                                                                                OneHotEncoder(dtype=&lt;class &#x27;int&#x27;&gt;,\n",
       "                                                                                                              handle_unknown=&#x27;ignore&#x27;))]),\n",
       "                                                                               [&#x27;MilkTypeEn&#x27;])])),\n",
       "                                             (&#x27;randomforestclassifier&#x27;,\n",
       "                                              RandomForestClassifier())]),\n",
       "                   n_iter=5,\n",
       "                   param_distributions={&#x27;randomforestclassifier__max_depth&#x27;: range(1, 151, 10)},\n",
       "                   return_train_score=True, verbose=2)</pre><b>In a Jupyter environment, please rerun this cell to show the HTML representation or trust the notebook. <br />On GitHub, the HTML representation is unable to render, please try loading this page with nbviewer.org.</b></div><div class=\"sk-container\" hidden><div class=\"sk-item sk-dashed-wrapped\"><div class=\"sk-label-container\"><div class=\"sk-label fitted sk-toggleable\"><input class=\"sk-toggleable__control sk-hidden--visually\" id=\"sk-estimator-id-1\" type=\"checkbox\" ><label for=\"sk-estimator-id-1\" class=\"sk-toggleable__label fitted sk-toggleable__label-arrow fitted\">&nbsp;&nbsp;RandomizedSearchCV<a class=\"sk-estimator-doc-link fitted\" rel=\"noreferrer\" target=\"_blank\" href=\"https://scikit-learn.org/1.4/modules/generated/sklearn.model_selection.RandomizedSearchCV.html\">?<span>Documentation for RandomizedSearchCV</span></a><span class=\"sk-estimator-doc-link fitted\">i<span>Fitted</span></span></label><div class=\"sk-toggleable__content fitted\"><pre>RandomizedSearchCV(cv=5,\n",
       "                   estimator=Pipeline(steps=[(&#x27;columntransformer&#x27;,\n",
       "                                              ColumnTransformer(transformers=[(&#x27;pipeline-1&#x27;,\n",
       "                                                                               Pipeline(steps=[(&#x27;standardscaler&#x27;,\n",
       "                                                                                                StandardScaler())]),\n",
       "                                                                               [&#x27;MoisturePercent&#x27;]),\n",
       "                                                                              (&#x27;pipeline-2&#x27;,\n",
       "                                                                               Pipeline(steps=[(&#x27;simpleimputer&#x27;,\n",
       "                                                                                                SimpleImputer(strategy=&#x27;most_frequent&#x27;)),\n",
       "                                                                                               (&#x27;onehotencoder&#x27;,\n",
       "                                                                                                OneHotEncoder(dtype=&lt;class &#x27;int&#x27;&gt;,\n",
       "                                                                                                              handle_unknown=&#x27;ignore&#x27;))]),\n",
       "                                                                               [&#x27;MilkTypeEn&#x27;])])),\n",
       "                                             (&#x27;randomforestclassifier&#x27;,\n",
       "                                              RandomForestClassifier())]),\n",
       "                   n_iter=5,\n",
       "                   param_distributions={&#x27;randomforestclassifier__max_depth&#x27;: range(1, 151, 10)},\n",
       "                   return_train_score=True, verbose=2)</pre></div> </div></div><div class=\"sk-parallel\"><div class=\"sk-parallel-item\"><div class=\"sk-item\"><div class=\"sk-label-container\"><div class=\"sk-label fitted sk-toggleable\"><input class=\"sk-toggleable__control sk-hidden--visually\" id=\"sk-estimator-id-2\" type=\"checkbox\" ><label for=\"sk-estimator-id-2\" class=\"sk-toggleable__label fitted sk-toggleable__label-arrow fitted\">estimator: Pipeline</label><div class=\"sk-toggleable__content fitted\"><pre>Pipeline(steps=[(&#x27;columntransformer&#x27;,\n",
       "                 ColumnTransformer(transformers=[(&#x27;pipeline-1&#x27;,\n",
       "                                                  Pipeline(steps=[(&#x27;standardscaler&#x27;,\n",
       "                                                                   StandardScaler())]),\n",
       "                                                  [&#x27;MoisturePercent&#x27;]),\n",
       "                                                 (&#x27;pipeline-2&#x27;,\n",
       "                                                  Pipeline(steps=[(&#x27;simpleimputer&#x27;,\n",
       "                                                                   SimpleImputer(strategy=&#x27;most_frequent&#x27;)),\n",
       "                                                                  (&#x27;onehotencoder&#x27;,\n",
       "                                                                   OneHotEncoder(dtype=&lt;class &#x27;int&#x27;&gt;,\n",
       "                                                                                 handle_unknown=&#x27;ignore&#x27;))]),\n",
       "                                                  [&#x27;MilkTypeEn&#x27;])])),\n",
       "                (&#x27;randomforestclassifier&#x27;, RandomForestClassifier())])</pre></div> </div></div><div class=\"sk-serial\"><div class=\"sk-item\"><div class=\"sk-serial\"><div class=\"sk-item sk-dashed-wrapped\"><div class=\"sk-label-container\"><div class=\"sk-label fitted sk-toggleable\"><input class=\"sk-toggleable__control sk-hidden--visually\" id=\"sk-estimator-id-3\" type=\"checkbox\" ><label for=\"sk-estimator-id-3\" class=\"sk-toggleable__label fitted sk-toggleable__label-arrow fitted\">&nbsp;columntransformer: ColumnTransformer<a class=\"sk-estimator-doc-link fitted\" rel=\"noreferrer\" target=\"_blank\" href=\"https://scikit-learn.org/1.4/modules/generated/sklearn.compose.ColumnTransformer.html\">?<span>Documentation for columntransformer: ColumnTransformer</span></a></label><div class=\"sk-toggleable__content fitted\"><pre>ColumnTransformer(transformers=[(&#x27;pipeline-1&#x27;,\n",
       "                                 Pipeline(steps=[(&#x27;standardscaler&#x27;,\n",
       "                                                  StandardScaler())]),\n",
       "                                 [&#x27;MoisturePercent&#x27;]),\n",
       "                                (&#x27;pipeline-2&#x27;,\n",
       "                                 Pipeline(steps=[(&#x27;simpleimputer&#x27;,\n",
       "                                                  SimpleImputer(strategy=&#x27;most_frequent&#x27;)),\n",
       "                                                 (&#x27;onehotencoder&#x27;,\n",
       "                                                  OneHotEncoder(dtype=&lt;class &#x27;int&#x27;&gt;,\n",
       "                                                                handle_unknown=&#x27;ignore&#x27;))]),\n",
       "                                 [&#x27;MilkTypeEn&#x27;])])</pre></div> </div></div><div class=\"sk-parallel\"><div class=\"sk-parallel-item\"><div class=\"sk-item\"><div class=\"sk-label-container\"><div class=\"sk-label fitted sk-toggleable\"><input class=\"sk-toggleable__control sk-hidden--visually\" id=\"sk-estimator-id-4\" type=\"checkbox\" ><label for=\"sk-estimator-id-4\" class=\"sk-toggleable__label fitted sk-toggleable__label-arrow fitted\">pipeline-1</label><div class=\"sk-toggleable__content fitted\"><pre>[&#x27;MoisturePercent&#x27;]</pre></div> </div></div><div class=\"sk-serial\"><div class=\"sk-item\"><div class=\"sk-serial\"><div class=\"sk-item\"><div class=\"sk-estimator fitted sk-toggleable\"><input class=\"sk-toggleable__control sk-hidden--visually\" id=\"sk-estimator-id-5\" type=\"checkbox\" ><label for=\"sk-estimator-id-5\" class=\"sk-toggleable__label fitted sk-toggleable__label-arrow fitted\">&nbsp;StandardScaler<a class=\"sk-estimator-doc-link fitted\" rel=\"noreferrer\" target=\"_blank\" href=\"https://scikit-learn.org/1.4/modules/generated/sklearn.preprocessing.StandardScaler.html\">?<span>Documentation for StandardScaler</span></a></label><div class=\"sk-toggleable__content fitted\"><pre>StandardScaler()</pre></div> </div></div></div></div></div></div></div><div class=\"sk-parallel-item\"><div class=\"sk-item\"><div class=\"sk-label-container\"><div class=\"sk-label fitted sk-toggleable\"><input class=\"sk-toggleable__control sk-hidden--visually\" id=\"sk-estimator-id-6\" type=\"checkbox\" ><label for=\"sk-estimator-id-6\" class=\"sk-toggleable__label fitted sk-toggleable__label-arrow fitted\">pipeline-2</label><div class=\"sk-toggleable__content fitted\"><pre>[&#x27;MilkTypeEn&#x27;]</pre></div> </div></div><div class=\"sk-serial\"><div class=\"sk-item\"><div class=\"sk-serial\"><div class=\"sk-item\"><div class=\"sk-estimator fitted sk-toggleable\"><input class=\"sk-toggleable__control sk-hidden--visually\" id=\"sk-estimator-id-7\" type=\"checkbox\" ><label for=\"sk-estimator-id-7\" class=\"sk-toggleable__label fitted sk-toggleable__label-arrow fitted\">&nbsp;SimpleImputer<a class=\"sk-estimator-doc-link fitted\" rel=\"noreferrer\" target=\"_blank\" href=\"https://scikit-learn.org/1.4/modules/generated/sklearn.impute.SimpleImputer.html\">?<span>Documentation for SimpleImputer</span></a></label><div class=\"sk-toggleable__content fitted\"><pre>SimpleImputer(strategy=&#x27;most_frequent&#x27;)</pre></div> </div></div><div class=\"sk-item\"><div class=\"sk-estimator fitted sk-toggleable\"><input class=\"sk-toggleable__control sk-hidden--visually\" id=\"sk-estimator-id-8\" type=\"checkbox\" ><label for=\"sk-estimator-id-8\" class=\"sk-toggleable__label fitted sk-toggleable__label-arrow fitted\">&nbsp;OneHotEncoder<a class=\"sk-estimator-doc-link fitted\" rel=\"noreferrer\" target=\"_blank\" href=\"https://scikit-learn.org/1.4/modules/generated/sklearn.preprocessing.OneHotEncoder.html\">?<span>Documentation for OneHotEncoder</span></a></label><div class=\"sk-toggleable__content fitted\"><pre>OneHotEncoder(dtype=&lt;class &#x27;int&#x27;&gt;, handle_unknown=&#x27;ignore&#x27;)</pre></div> </div></div></div></div></div></div></div></div></div><div class=\"sk-item\"><div class=\"sk-estimator fitted sk-toggleable\"><input class=\"sk-toggleable__control sk-hidden--visually\" id=\"sk-estimator-id-9\" type=\"checkbox\" ><label for=\"sk-estimator-id-9\" class=\"sk-toggleable__label fitted sk-toggleable__label-arrow fitted\">&nbsp;RandomForestClassifier<a class=\"sk-estimator-doc-link fitted\" rel=\"noreferrer\" target=\"_blank\" href=\"https://scikit-learn.org/1.4/modules/generated/sklearn.ensemble.RandomForestClassifier.html\">?<span>Documentation for RandomForestClassifier</span></a></label><div class=\"sk-toggleable__content fitted\"><pre>RandomForestClassifier()</pre></div> </div></div></div></div></div></div></div></div></div></div></div>"
      ],
      "text/plain": [
       "RandomizedSearchCV(cv=5,\n",
       "                   estimator=Pipeline(steps=[('columntransformer',\n",
       "                                              ColumnTransformer(transformers=[('pipeline-1',\n",
       "                                                                               Pipeline(steps=[('standardscaler',\n",
       "                                                                                                StandardScaler())]),\n",
       "                                                                               ['MoisturePercent']),\n",
       "                                                                              ('pipeline-2',\n",
       "                                                                               Pipeline(steps=[('simpleimputer',\n",
       "                                                                                                SimpleImputer(strategy='most_frequent')),\n",
       "                                                                                               ('onehotencoder',\n",
       "                                                                                                OneHotEncoder(dtype=<class 'int'>,\n",
       "                                                                                                              handle_unknown='ignore'))]),\n",
       "                                                                               ['MilkTypeEn'])])),\n",
       "                                             ('randomforestclassifier',\n",
       "                                              RandomForestClassifier())]),\n",
       "                   n_iter=5,\n",
       "                   param_distributions={'randomforestclassifier__max_depth': range(1, 151, 10)},\n",
       "                   return_train_score=True, verbose=2)"
      ]
     },
     "execution_count": 23,
     "metadata": {},
     "output_type": "execute_result"
    }
   ],
   "source": [
    "params = {\"randomforestclassifier__max_depth\": range(1, 151, 10)}\n",
    "\n",
    "depth_search = RandomizedSearchCV(\n",
    "    rfc_pipe, params, cv=5, n_iter=5, return_train_score=True, verbose=2\n",
    ")\n",
    "depth_search.fit(X_train, y_train)"
   ]
  },
  {
   "cell_type": "markdown",
   "metadata": {
    "nbgrader": {
     "cell_type": "code",
     "checksum": "eb9f2bdc7614d97f23f8eae7ca2eaa39",
     "grade": false,
     "grade_id": "cell-c73fc243949e9f49",
     "locked": false,
     "schema_version": 3,
     "solution": true,
     "task": false
    }
   },
   "source": [
    "\\\n",
    "Now, from the cross validation results, I can return the optimal value of the hyperparameter **n_estimators** and the training score given by the model using the optimized hyperparameter. "
   ]
  },
  {
   "cell_type": "code",
   "execution_count": 24,
   "metadata": {
    "nbgrader": {
     "cell_type": "code",
     "checksum": "eb9f2bdc7614d97f23f8eae7ca2eaa39",
     "grade": false,
     "grade_id": "cell-c73fc243949e9f49",
     "locked": false,
     "schema_version": 3,
     "solution": true,
     "task": false
    }
   },
   "outputs": [
    {
     "name": "stdout",
     "output_type": "stream",
     "text": [
      "Optimal n_estimators:  11\n"
     ]
    }
   ],
   "source": [
    "cv_df = pd.DataFrame(depth_search.cv_results_)\n",
    "grid_results = cv_df.loc[\n",
    "    :,\n",
    "    [\n",
    "        \"mean_test_score\",\n",
    "        \"param_randomforestclassifier__max_depth\",\n",
    "        \"mean_fit_time\",\n",
    "        \"rank_test_score\",\n",
    "    ],\n",
    "].sort_values(\"rank_test_score\")\n",
    "best_depth = depth_search.best_params_[\"randomforestclassifier__max_depth\"]\n",
    "print(\"Optimal n_estimators: \", best_depth)"
   ]
  },
  {
   "cell_type": "markdown",
   "metadata": {
    "nbgrader": {
     "cell_type": "code",
     "checksum": "eb9f2bdc7614d97f23f8eae7ca2eaa39",
     "grade": false,
     "grade_id": "cell-c73fc243949e9f49",
     "locked": false,
     "schema_version": 3,
     "solution": true,
     "task": false
    }
   },
   "source": [
    "#### K Neighbors Classifier\n",
    "By iterating through numbers 2 to 20, increasing by an increment of 2, I create a results dictionary storing the hyperparameter value, mean cross validation score, and mean training score for each number. The goal is to determine the optimal value for **n_neighbors**. "
   ]
  },
  {
   "cell_type": "code",
   "execution_count": 25,
   "metadata": {
    "nbgrader": {
     "cell_type": "code",
     "checksum": "0c67ba6c19407a501a9355e278674738",
     "grade": false,
     "grade_id": "cell-f699aee3e2255189",
     "locked": false,
     "schema_version": 3,
     "solution": true,
     "task": false
    }
   },
   "outputs": [],
   "source": [
    "results_dict = {\"n_neighbors\": [], \"mean_train_score\": [], \"mean_cv_score\": []}\n",
    "results_dict\n",
    "\n",
    "for k in range(2, 20, 2):\n",
    "    model = knn_pipe\n",
    "    score = cross_validate(model, X_train, y_train, cv=5, return_train_score=True)\n",
    "    results_dict[\"n_neighbors\"].append(k)\n",
    "    results_dict[\"mean_cv_score\"].append(score[\"test_score\"].mean())\n",
    "    results_dict[\"mean_train_score\"].append(score[\"train_score\"].mean())"
   ]
  },
  {
   "cell_type": "markdown",
   "metadata": {
    "nbgrader": {
     "cell_type": "code",
     "checksum": "0c67ba6c19407a501a9355e278674738",
     "grade": false,
     "grade_id": "cell-f699aee3e2255189",
     "locked": false,
     "schema_version": 3,
     "solution": true,
     "task": false
    }
   },
   "source": [
    "From the results dictionary, I can return the optimal value of the hyperparameter **n_neighbors** and the training score given by the model using the optimized hyperparameter. "
   ]
  },
  {
   "cell_type": "code",
   "execution_count": 26,
   "metadata": {
    "nbgrader": {
     "cell_type": "code",
     "checksum": "c5da73c134b7670b444bd3e8bc216afc",
     "grade": false,
     "grade_id": "cell-f85064f54b3f81c1",
     "locked": false,
     "schema_version": 3,
     "solution": true,
     "task": false
    }
   },
   "outputs": [
    {
     "name": "stdout",
     "output_type": "stream",
     "text": [
      "Optimal n_neighbors:  2\n"
     ]
    }
   ],
   "source": [
    "results_df = pd.DataFrame(results_dict)\n",
    "best_k = int(results_df.loc[results_df[\"mean_cv_score\"].idxmax()][\"n_neighbors\"])\n",
    "print(\"Optimal n_neighbors: \", best_k)"
   ]
  },
  {
   "cell_type": "markdown",
   "metadata": {
    "nbgrader": {
     "cell_type": "code",
     "checksum": "e2b91989fc627390cf16cd81f041f105",
     "grade": false,
     "grade_id": "cell-d1aa91f1f2a9e12e",
     "locked": false,
     "schema_version": 3,
     "solution": true,
     "task": false
    },
    "tags": []
   },
   "source": [
    "### Comparing Models\n",
    "Now that I have found the optimal values for hyperparameters of both random forest classifier and k neighbors classifier, I will create new pipelines using the same **preprocess** transformer, but this time passing the optimized hyperparameters to the classifiers. I then fit the pipeline on the training set and score it on the training set to select a final model. "
   ]
  },
  {
   "cell_type": "markdown",
   "metadata": {
    "nbgrader": {
     "cell_type": "code",
     "checksum": "e2b91989fc627390cf16cd81f041f105",
     "grade": false,
     "grade_id": "cell-d1aa91f1f2a9e12e",
     "locked": false,
     "schema_version": 3,
     "solution": true,
     "task": false
    },
    "tags": []
   },
   "source": [
    "#### Random Forest Classifier"
   ]
  },
  {
   "cell_type": "code",
   "execution_count": 27,
   "metadata": {
    "nbgrader": {
     "cell_type": "code",
     "checksum": "ec649ddf6a8978ab8b276a9cde93b8cf",
     "grade": false,
     "grade_id": "cell-345637fc0c5bb9ab",
     "locked": false,
     "schema_version": 3,
     "solution": true,
     "task": false
    },
    "tags": []
   },
   "outputs": [
    {
     "name": "stdout",
     "output_type": "stream",
     "text": [
      "Random forest classifier training score:  0.843065693430657\n"
     ]
    }
   ],
   "source": [
    "best_rfc = make_pipeline(preprocess, RandomForestClassifier(best_depth))\n",
    "rfc_train = best_rfc.fit(X_train, y_train).score(X_train, y_train)\n",
    "print(\"Random forest classifier training score: \", rfc_train)"
   ]
  },
  {
   "cell_type": "markdown",
   "metadata": {
    "nbgrader": {
     "cell_type": "code",
     "checksum": "e2b91989fc627390cf16cd81f041f105",
     "grade": false,
     "grade_id": "cell-d1aa91f1f2a9e12e",
     "locked": false,
     "schema_version": 3,
     "solution": true,
     "task": false
    },
    "tags": []
   },
   "source": [
    "#### KNN Classifier"
   ]
  },
  {
   "cell_type": "code",
   "execution_count": 28,
   "metadata": {
    "nbgrader": {
     "cell_type": "code",
     "checksum": "ec649ddf6a8978ab8b276a9cde93b8cf",
     "grade": false,
     "grade_id": "cell-345637fc0c5bb9ab",
     "locked": false,
     "schema_version": 3,
     "solution": true,
     "task": false
    }
   },
   "outputs": [
    {
     "name": "stdout",
     "output_type": "stream",
     "text": [
      "KNN classifier training score:  0.8309002433090025\n"
     ]
    }
   ],
   "source": [
    "best_knn = make_pipeline(preprocess, KNeighborsClassifier(best_k)).fit(X_train, y_train)\n",
    "knn_train = best_knn.score(X_train, y_train)\n",
    "print(\"KNN classifier training score: \", knn_train)"
   ]
  },
  {
   "cell_type": "markdown",
   "metadata": {
    "nbgrader": {
     "cell_type": "code",
     "checksum": "ec649ddf6a8978ab8b276a9cde93b8cf",
     "grade": false,
     "grade_id": "cell-345637fc0c5bb9ab",
     "locked": false,
     "schema_version": 3,
     "solution": true,
     "task": false
    }
   },
   "source": [
    "#### The training scores for the random forest classifier and k neighbors classifier models are as follows:"
   ]
  },
  {
   "cell_type": "code",
   "execution_count": 29,
   "metadata": {
    "nbgrader": {
     "cell_type": "code",
     "checksum": "ec649ddf6a8978ab8b276a9cde93b8cf",
     "grade": false,
     "grade_id": "cell-345637fc0c5bb9ab",
     "locked": false,
     "schema_version": 3,
     "solution": true,
     "task": false
    }
   },
   "outputs": [
    {
     "name": "stdout",
     "output_type": "stream",
     "text": [
      "Optimized model training scores: \n",
      "Random Forest Classifier:  0.843065693430657\n",
      "KNN Classifier:  0.8309002433090025\n"
     ]
    }
   ],
   "source": [
    "print_dict_2 = {\"Random Forest Classifier: \": rfc_train,\n",
    "                \"KNN Classifier: \": knn_train}\n",
    "\n",
    "print(\"Optimized model training scores: \")\n",
    "for k, v in print_dict_2.items():\n",
    "    print(k, v)"
   ]
  },
  {
   "cell_type": "markdown",
   "metadata": {
    "nbgrader": {
     "cell_type": "code",
     "checksum": "ec649ddf6a8978ab8b276a9cde93b8cf",
     "grade": false,
     "grade_id": "cell-345637fc0c5bb9ab",
     "locked": false,
     "schema_version": 3,
     "solution": true,
     "task": false
    }
   },
   "source": [
    "### Scoring on the Test Set"
   ]
  },
  {
   "cell_type": "markdown",
   "metadata": {
    "nbgrader": {
     "cell_type": "code",
     "checksum": "ec649ddf6a8978ab8b276a9cde93b8cf",
     "grade": false,
     "grade_id": "cell-345637fc0c5bb9ab",
     "locked": false,
     "schema_version": 3,
     "solution": true,
     "task": false
    }
   },
   "source": [
    "Before scoring the random forest classifier model on the test set, I compare the unbalanced model to a balanced one."
   ]
  },
  {
   "cell_type": "code",
   "execution_count": 30,
   "metadata": {
    "nbgrader": {
     "cell_type": "code",
     "checksum": "ec649ddf6a8978ab8b276a9cde93b8cf",
     "grade": false,
     "grade_id": "cell-345637fc0c5bb9ab",
     "locked": false,
     "schema_version": 3,
     "solution": true,
     "task": false
    }
   },
   "outputs": [
    {
     "name": "stdout",
     "output_type": "stream",
     "text": [
      "Unbalanced training score: 0.843065693430657 \n",
      "Balanced training score: 0.8406326034063261\n"
     ]
    }
   ],
   "source": [
    "rfc_balanced = make_pipeline(\n",
    "    preprocess, RandomForestClassifier(n_estimators=101, class_weight=\"balanced\")\n",
    ")\n",
    "balanced_score = rfc_balanced.fit(X_train, y_train).score(X_train, y_train)\n",
    "print(\"Unbalanced training score:\", rfc_train, \"\\nBalanced training score:\", balanced_score)"
   ]
  },
  {
   "cell_type": "markdown",
   "metadata": {
    "nbgrader": {
     "cell_type": "code",
     "checksum": "ec649ddf6a8978ab8b276a9cde93b8cf",
     "grade": false,
     "grade_id": "cell-345637fc0c5bb9ab",
     "locked": false,
     "schema_version": 3,
     "solution": true,
     "task": false
    }
   },
   "source": [
    "As the training score for the unbalanced model is higher, I will use the unbalanced random forest classifier model as the final model.\\\n",
    "I plot a confusion matrix of the optimized random forest classifier model below. "
   ]
  },
  {
   "cell_type": "code",
   "execution_count": 31,
   "metadata": {
    "nbgrader": {
     "cell_type": "code",
     "checksum": "ec649ddf6a8978ab8b276a9cde93b8cf",
     "grade": false,
     "grade_id": "cell-345637fc0c5bb9ab",
     "locked": false,
     "schema_version": 3,
     "solution": true,
     "task": false
    }
   },
   "outputs": [
    {
     "data": {
      "image/png": "[encoded data removed]",
      "text/plain": [
       "<Figure size 640x480 with 2 Axes>"
      ]
     },
     "metadata": {},
     "output_type": "display_data"
    }
   ],
   "source": [
    "cmatrix = ConfusionMatrixDisplay.from_estimator(best_rfc, X_test, y_test, normalize=\"true\")"
   ]
  },
  {
   "cell_type": "markdown",
   "metadata": {
    "nbgrader": {
     "cell_type": "code",
     "checksum": "ec649ddf6a8978ab8b276a9cde93b8cf",
     "grade": false,
     "grade_id": "cell-345637fc0c5bb9ab",
     "locked": false,
     "schema_version": 3,
     "solution": true,
     "task": false
    }
   },
   "source": [
    "Figure 4: Confusion matrix depicting the proportion of true positives, true negatives, false positives, and false negatives"
   ]
  },
  {
   "cell_type": "markdown",
   "metadata": {
    "nbgrader": {
     "cell_type": "code",
     "checksum": "ec649ddf6a8978ab8b276a9cde93b8cf",
     "grade": false,
     "grade_id": "cell-345637fc0c5bb9ab",
     "locked": false,
     "schema_version": 3,
     "solution": true,
     "task": false
    }
   },
   "source": [
    "The proportions of true positives, true negatives, false positives, and false negatives are as follows:\n",
    "- True positives: 0.97\n",
    "- True negatives: 0.58\n",
    "- False positives: 0.42\n",
    "- False negatives: 0.028\n",
    "\n",
    "Then, I use sklearn's `classification_report` to return the F1-score of the model on the test set"
   ]
  },
  {
   "cell_type": "code",
   "execution_count": 32,
   "metadata": {
    "nbgrader": {
     "cell_type": "code",
     "checksum": "ec649ddf6a8978ab8b276a9cde93b8cf",
     "grade": false,
     "grade_id": "cell-345637fc0c5bb9ab",
     "locked": false,
     "schema_version": 3,
     "solution": true,
     "task": false
    }
   },
   "outputs": [
    {
     "name": "stdout",
     "output_type": "stream",
     "text": [
      "              precision    recall  f1-score   support\n",
      "\n",
      "    negative       0.90      0.58      0.71        62\n",
      "    positive       0.84      0.97      0.90       143\n",
      "\n",
      "    accuracy                           0.85       205\n",
      "   macro avg       0.87      0.78      0.80       205\n",
      "weighted avg       0.86      0.85      0.84       205\n",
      "\n"
     ]
    }
   ],
   "source": [
    "print(\n",
    "    classification_report(\n",
    "        y_test, best_rfc.predict(X_test), target_names=[\"negative\", \"positive\"]\n",
    "    )\n",
    ")"
   ]
  },
  {
   "cell_type": "markdown",
   "metadata": {
    "nbgrader": {
     "cell_type": "code",
     "checksum": "ec649ddf6a8978ab8b276a9cde93b8cf",
     "grade": false,
     "grade_id": "cell-345637fc0c5bb9ab",
     "locked": false,
     "schema_version": 3,
     "solution": true,
     "task": false
    }
   },
   "source": [
    "The sample-weighted F1-score of the final model is **0.84**"
   ]
  },
  {
   "cell_type": "markdown",
   "metadata": {},
   "source": [
    "## Writing\n",
    "For initially exploring models, I chose to try a random forest classification model, a k neighbors classification model, and a support vector classification model. These models were selected for their suitability for binary classification and the size of the data set. At a glance, the data exhibited some class imbalance, which suggested the random forest classifier may have been the best choice due to its robustness to imbalance; however the unbalanced model appeared to perform better than its balanced counterpart. As the data set is relatively small and free of large outliers, the k neighbors clasifier was well suited; whereas with a larger dataset it may well have been too resource-intensive, and with large outliers may have been too sensitive.\n",
    "\n",
    "From initial evaluation and comparison of training scores, the random forest classifier appeared the best fit with a score of ~0.8461, followed by the k neighbors clasifier scoring ~0.8297, and lastly the support vector classifier with ~0.8026. The reasons for the random forest classifier's better performance could be attributed to it's class imbalance-robustness mentioned, or to the nature of the model, in the sense that it is an ensemble learning rather than individual. "
   ]
  },
  {
   "cell_type": "markdown",
   "metadata": {},
   "source": [
    "# Discussion\n",
    "The goal of this project was to build a supervised machine learning model with the ability to classifiy a given cheese as lower-fat or higher-fat, knowing the milk type and moisture content. The expected outcome was that the model would accurately classify cheeses as either lower-fat or higher-fat. The outcome was as initially expected, as given the resulting F1-score (0.84), it appears the model can in fact discriminate between the two classes of cheese. This suggests that this model could be helpful to those in the cheese industry with respect to efficiently and correctly categorizing and/or labeling cheeses, which would prove a valuable business tool to streamline distribution, improve marketing strategies and better catering to consumers.\n",
    "\n",
    "The model used may be limited by the small number of features used. There are a number more available, which could be incorporated to potentially yield a better model with a better ability to discriminate. For example, if features such as rind type, manufacturing type, or category/type are included, the model may be able to even better discriminate between cheese categories. \n",
    "\n",
    "There are a number of potential sources of bias that may affect the results of this project. For one, sampling bias may be at play if the dataset does not represent the entire population of cheeses and cheese makers in Canada. For example, if there are many artisan or small cheese producers that produce unique types of cheese and are not included, the model may not perform as expected if tested on this subset of the population. Alternatively, there may be selection bias if, for example, the dataset contains a disproportionately low amount of cheeses made from goat milk, then the model will be biased towards cheeses made from other types of milk. "
   ]
  },
  {
   "cell_type": "markdown",
   "metadata": {},
   "source": [
    "## References\n",
    "- Data Source ( *canadianCheeseDirectory.csv* )\n",
    "    - The dataset was originally obtained from The Government of Canada's Open Government Portal; however was provided by the course instructors as it is no longer available at that location\n",
    "- [Pandas](https://pandas.pydata.org/docs/)\n",
    "    - A python library for data structures and data analysis tools\n",
    "- [Altair](https://altair-viz.github.io/)\n",
    "    - A python library for data visualization\n",
    "- [scikit-learn](https://scikit-learn.org/stable/)\n",
    "    - A python library for predictive data analysis\n",
    "\n"
   ]
  }
 ],
 "metadata": {
  "kernelspec": {
   "display_name": "Python 3",
   "language": "python",
   "name": "python3"
  },
  "language_info": {
   "codemirror_mode": {
    "name": "ipython",
    "version": 3
   },
   "file_extension": ".py",
   "mimetype": "text/x-python",
   "name": "python",
   "nbconvert_exporter": "python",
   "pygments_lexer": "ipython3",
   "version": "3.11.8"
  }
 },
 "nbformat": 4,
 "nbformat_minor": 4
}
